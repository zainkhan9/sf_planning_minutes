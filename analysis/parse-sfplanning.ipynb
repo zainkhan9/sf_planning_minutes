{
 "cells": [
  {
   "cell_type": "code",
   "execution_count": 8,
   "metadata": {
    "collapsed": true
   },
   "outputs": [],
   "source": [
    "from bs4 import BeautifulSoup\n",
    "import re\n",
    "import json"
   ]
  },
  {
   "cell_type": "code",
   "execution_count": 9,
   "metadata": {
    "collapsed": true
   },
   "outputs": [],
   "source": [
    "def get_item_list(raw_text):\n",
    "    tups = []\n",
    "    pattern = re.compile(r'([0-9]+[a-z]?\\.\\s+[0-9]{4}\\..*)')\n",
    "    sections = re.split(pattern, raw_text)\n",
    "    sections = sections[1:]\n",
    "\n",
    "    for i in range(len(sections)):\n",
    "        if i % 2 == 0:\n",
    "            id = sections[i]\n",
    "            continue\n",
    "        else:\n",
    "            lines = sections[i].split('\\n\\xa0\\n')\n",
    "            info = lines[0]\n",
    "\n",
    "            for l in lines[1:]:\n",
    "                if len(re.findall(r'[A-Z]+:', l)):\n",
    "                    info += l\n",
    "                else:\n",
    "                    break\n",
    "\n",
    "            tups.append((id, info))\n",
    "            \n",
    "    return tups"
   ]
  },
  {
   "cell_type": "code",
   "execution_count": 3,
   "metadata": {
    "collapsed": true
   },
   "outputs": [],
   "source": [
    "def parse_text(tup):\n",
    "    item = tup[1]\n",
    "\n",
    "    id_info = ' '.join(tup[0].split())\n",
    "    \n",
    "    meta_dict = {}\n",
    "    \n",
    "    # get info from ID (top of project dec)\n",
    "    id_pattern = re.compile(r'([0-9]+[a-z]?)\\.\\s+?([0-9]+\\.[0-9A-Z]+)\\s+?\\(([\\s\\S]+):\\s+?(\\([0-9]+\\)\\s?[0-9]+-[0-9]+)\\)')\n",
    "    groups = re.search(id_pattern, id_info).groups()\n",
    "    meta_dict['NUMBER'] = groups[0]\n",
    "    meta_dict['ID'] = groups[1]\n",
    "    meta_dict['NAME'] = groups[2]\n",
    "    meta_dict['PHONE_NUM'] = groups[3]\n",
    "\n",
    "    # get address from project desc\n",
    "    address_pattern = re.compile(r'([^a-z]+)-([\\s\\S]+)Preliminary Recommendation')\n",
    "    meta_dict['ADDRESS'] = re.search(address_pattern, item).groups()[0].strip()\n",
    "    \n",
    "    # get prelim desc from bottom of desc\n",
    "    prelim_rec = re.compile(r'Preliminary Recommendation:\\s+(.+)')\n",
    "    try:\n",
    "        meta_dict['PRELIM_REC'] = re.search(prelim_rec, item).groups()[0].strip()\n",
    "    except:\n",
    "        meta_dict['PRELIM_REC'] = 'NA'\n",
    "    \n",
    "    # get continued from if exists at bottom of desc\n",
    "    continued_from = re.compile(r'\\(Continued from (.+)\\)')\n",
    "    try:\n",
    "        meta_dict['CONT_FROM'] = re.search(continued_from, item).groups()[0].strip()\n",
    "    except:\n",
    "        meta_dict['CONT_FROM'] = 'NA'\n",
    "    \n",
    "    # add desc\n",
    "    meta_dict['DESC'] = re.search(address_pattern, item).groups()[1].strip()\n",
    "    \n",
    "    # regex to find speakers\n",
    "    speakers_pattern = re.compile(r'(\\+|-|=)(\\s+.+)')\n",
    "\n",
    "    # iterate through rest of metadata\n",
    "    metadata = re.split(r'([A-Z]+)[\\(S\\)]?:', item)[1:]\n",
    "    for i in range(len(metadata)):\n",
    "        if i % 2 == 0:\n",
    "            k = metadata[i]\n",
    "            continue\n",
    "        else:\n",
    "            if k == 'SPEAKERS':\n",
    "                if k in meta_dict.keys():\n",
    "                    continue\n",
    "                else:\n",
    "                    meta_dict[k] = re.findall(speakers_pattern, metadata[i])\n",
    "            elif k == 'S':\n",
    "                lines = [x.strip() for x in metadata[i].split('\\n')]\n",
    "                \n",
    "                meta_dict['SPEAKERS'] = {'NA': []}\n",
    "                s = 'NA'\n",
    "                for l in lines:\n",
    "                    if len(l.strip()) > 0:\n",
    "                        if l.strip().startswith('('):\n",
    "                            s = l.strip()\n",
    "                            meta_dict['SPEAKERS'][s] = []\n",
    "                        else:\n",
    "                            meta_dict['SPEAKERS'][s].append(l.strip())\n",
    "                        \n",
    "            else:\n",
    "                meta_dict[k] = metadata[i].strip()\n",
    "\n",
    "    return meta_dict"
   ]
  },
  {
   "cell_type": "code",
   "execution_count": 12,
   "metadata": {
    "collapsed": true
   },
   "outputs": [],
   "source": [
    "import glob\n",
    "\n",
    "all_items = []\n",
    "for fname in glob.glob(\"../1998-2014/*.htm*\"):\n",
    "    with open(fname, 'r') as f:\n",
    "        html = f.read()\n",
    "\n",
    "    soup = BeautifulSoup(html, 'html5lib')\n",
    "\n",
    "    raw_text = soup.text\n",
    "\n",
    "\n",
    "    tuple_list = get_item_list(raw_text)\n",
    "\n",
    "    try:\n",
    "        for t in tuple_list:\n",
    "            t_dict = parse_text(t)\n",
    "            t_dict['file_name'] = fname\n",
    "\n",
    "            all_items.append(t_dict)\n",
    "    except:\n",
    "        print(fname)\n"
   ]
  },
  {
   "cell_type": "code",
   "execution_count": 13,
   "metadata": {},
   "outputs": [
    {
     "data": {
      "text/plain": [
       "0"
      ]
     },
     "execution_count": 13,
     "metadata": {},
     "output_type": "execute_result"
    }
   ],
   "source": [
    "len(all_items)"
   ]
  },
  {
   "cell_type": "code",
   "execution_count": 5,
   "metadata": {
    "collapsed": true
   },
   "outputs": [],
   "source": [
    "json.dump(all_items, open('test2.json', 'w'))"
   ]
  }
 ],
 "metadata": {
  "kernelspec": {
   "display_name": "Python 3",
   "language": "python",
   "name": "python3"
  },
  "language_info": {
   "codemirror_mode": {
    "name": "ipython",
    "version": 3
   },
   "file_extension": ".py",
   "mimetype": "text/x-python",
   "name": "python",
   "nbconvert_exporter": "python",
   "pygments_lexer": "ipython3",
   "version": "3.6.3"
  }
 },
 "nbformat": 4,
 "nbformat_minor": 2
}
