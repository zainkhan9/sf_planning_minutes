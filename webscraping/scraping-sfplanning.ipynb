{
 "cells": [
  {
   "cell_type": "code",
   "execution_count": null,
   "metadata": {},
   "outputs": [],
   "source": [
    "import requests\n",
    "from bs4 import BeautifulSoup\n",
    "import time"
   ]
  },
  {
   "cell_type": "code",
   "execution_count": null,
   "metadata": {},
   "outputs": [],
   "source": [
    "all_links = []\n",
    "res = requests.get('http://default.sfplanning.org/meetingarchive/planning_dept/sf-planning.org/index.aspx-page=1000.html')\n",
    "soup = BeautifulSoup(res.text, 'lxml')\n",
    "\n",
    "base = 'http://default.sfplanning.org/meetingarchive/planning_dept/sf-planning.org/'\n",
    "\n",
    "links = [base + a['href'] for a in soup.find('div', {'id': 'ctl00_content_Screen'})('a')]\n",
    "\n",
    "for l in links:\n",
    "\n",
    "    res = requests.get(l)\n",
    "    soup = BeautifulSoup(res.text, 'lxml')\n",
    "\n",
    "    links = [base + a['href'] for a in soup.find('div', {'id': 'ctl00_content_Screen'})('a')]\n",
    "    all_links.extend(links)\n",
    "    time.sleep(1)"
   ]
  },
  {
   "cell_type": "code",
   "execution_count": null,
   "metadata": {},
   "outputs": [],
   "source": [
    "len(all_links)"
   ]
  },
  {
   "cell_type": "code",
   "execution_count": null,
   "metadata": {},
   "outputs": [],
   "source": [
    "for l in all_links:\n",
    "    html = requests.get(l).text\n",
    "    name = l.split('=')[-1]\n",
    "    print(name)\n",
    "    with open('sfplanning/' + name, 'w') as f:\n",
    "        f.write(html)\n",
    "    time.sleep(1)"
   ]
  },
  {
   "cell_type": "code",
   "execution_count": null,
   "metadata": {},
   "outputs": [],
   "source": [
    "all_links[0].split('=')[-1]"
   ]
  },
  {
   "cell_type": "code",
   "execution_count": null,
   "metadata": {
    "collapsed": true
   },
   "outputs": [],
   "source": []
  }
 ],
 "metadata": {
  "kernelspec": {
   "display_name": "Python 3",
   "language": "python",
   "name": "python3"
  },
  "language_info": {
   "codemirror_mode": {
    "name": "ipython",
    "version": 3
   },
   "file_extension": ".py",
   "mimetype": "text/x-python",
   "name": "python",
   "nbconvert_exporter": "python",
   "pygments_lexer": "ipython3",
   "version": "3.6.3"
  }
 },
 "nbformat": 4,
 "nbformat_minor": 2
}
